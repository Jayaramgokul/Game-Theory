{
 "cells": [
  {
   "cell_type": "code",
   "execution_count": 150,
   "id": "fd684077",
   "metadata": {},
   "outputs": [
    {
     "name": "stdout",
     "output_type": "stream",
     "text": [
      "Please specify the number of strategies for player 1: 2\n"
     ]
    }
   ],
   "source": [
    "No_of_strategies_of_P1 = int(input(\"Please specify the number of strategies for player 1: \"))"
   ]
  },
  {
   "cell_type": "code",
   "execution_count": 151,
   "id": "340c92c3",
   "metadata": {},
   "outputs": [
    {
     "data": {
      "text/plain": [
       "2"
      ]
     },
     "execution_count": 151,
     "metadata": {},
     "output_type": "execute_result"
    }
   ],
   "source": [
    "No_of_strategies_of_P1"
   ]
  },
  {
   "cell_type": "code",
   "execution_count": 152,
   "id": "50602e2b",
   "metadata": {},
   "outputs": [
    {
     "name": "stdout",
     "output_type": "stream",
     "text": [
      "Please specify the strategy no  1  for player 1: \n",
      "H\n",
      "Please specify the strategy no  2  for player 1: \n",
      "T\n"
     ]
    }
   ],
   "source": [
    "Names_of_strategies_of_P1=[]\n",
    "for i in range(No_of_strategies_of_P1):\n",
    "    print(\"Please specify the strategy no \", i+1, \" for player 1: \")\n",
    "    Names_of_strategies_of_P1.append(input())"
   ]
  },
  {
   "cell_type": "code",
   "execution_count": 153,
   "id": "8a2280b0",
   "metadata": {},
   "outputs": [
    {
     "data": {
      "text/plain": [
       "['H', 'T']"
      ]
     },
     "execution_count": 153,
     "metadata": {},
     "output_type": "execute_result"
    }
   ],
   "source": [
    "Names_of_strategies_of_P1"
   ]
  },
  {
   "cell_type": "code",
   "execution_count": 154,
   "id": "0a2e1a13",
   "metadata": {},
   "outputs": [
    {
     "name": "stdout",
     "output_type": "stream",
     "text": [
      "Please specify the number of strategies for player 2: 3\n"
     ]
    }
   ],
   "source": [
    "No_of_strategies_of_P2 = int(input(\"Please specify the number of strategies for player 2: \"))"
   ]
  },
  {
   "cell_type": "code",
   "execution_count": 155,
   "id": "33b68f22",
   "metadata": {},
   "outputs": [
    {
     "name": "stdout",
     "output_type": "stream",
     "text": [
      "Please specify the strategy no  1  for player 2: \n",
      "H\n",
      "Please specify the strategy no  2  for player 2: \n",
      "T\n",
      "Please specify the strategy no  3  for player 2: \n",
      "S\n"
     ]
    }
   ],
   "source": [
    "Names_of_strategies_of_P2=[]\n",
    "for i in range(No_of_strategies_of_P2):\n",
    "    print(\"Please specify the strategy no \", i+1, \" for player 2: \")\n",
    "    Names_of_strategies_of_P2.append(input())"
   ]
  },
  {
   "cell_type": "code",
   "execution_count": 156,
   "id": "f377a346",
   "metadata": {},
   "outputs": [
    {
     "data": {
      "text/plain": [
       "['H', 'T', 'S']"
      ]
     },
     "execution_count": 156,
     "metadata": {},
     "output_type": "execute_result"
    }
   ],
   "source": [
    "Names_of_strategies_of_P2"
   ]
  },
  {
   "cell_type": "code",
   "execution_count": 157,
   "id": "532f6703",
   "metadata": {},
   "outputs": [
    {
     "name": "stdout",
     "output_type": "stream",
     "text": [
      "Enter P1 and P2's payoff for strategy no 1  of player 1 & 1  of player 2\n",
      "1, -1\n",
      "Enter P1 and P2's payoff for strategy no 1  of player 1 & 2  of player 2\n",
      "-1, 1\n",
      "Enter P1 and P2's payoff for strategy no 1  of player 1 & 3  of player 2\n",
      "0, -100\n",
      "Enter P1 and P2's payoff for strategy no 2  of player 1 & 1  of player 2\n",
      "-1, 1\n",
      "Enter P1 and P2's payoff for strategy no 2  of player 1 & 2  of player 2\n",
      "1, -1\n",
      "Enter P1 and P2's payoff for strategy no 2  of player 1 & 3  of player 2\n",
      "0, -100\n",
      "\n",
      "The payoffs for P1's  strategy no  1\n",
      "1.0 , -1.0   -1.0 , 1.0   0.0 , -100.0   \n",
      "The payoffs for P1's  strategy no  2\n",
      "-1.0 , 1.0   1.0 , -1.0   0.0 , -100.0   "
     ]
    }
   ],
   "source": [
    "import numpy as np\n",
    "count = 0\n",
    "Total_Payoff_strategies_of_P2_P1 = []\n",
    "Total_Payoff_strategies_of_P1 = []\n",
    "Total_Payoff_strategies_of_P2 = []\n",
    "for k in range(No_of_strategies_of_P1):\n",
    "    Payoff_strategies_of_P2_P1 = []\n",
    "    Payoff_strategies_of_P1=[]\n",
    "    Payoff_strategies_of_P2=[]\n",
    "    for i in range(No_of_strategies_of_P2):\n",
    "        print(\"Enter P1 and P2's payoff for strategy no\", k+1, \" of player 1 &\", i+1, \" of player 2\")\n",
    "        p, q = [float(x) for x in input().split(', ')]\n",
    "        Payoff_strategies_of_P1.append(p)\n",
    "        Payoff_strategies_of_P2.append(q)\n",
    "        Payoff_strategies_of_P2_P1.append([p, q])\n",
    "    Total_Payoff_strategies_of_P2_P1.append(Payoff_strategies_of_P2_P1)\n",
    "    Total_Payoff_strategies_of_P1.append(Payoff_strategies_of_P1)\n",
    "    Total_Payoff_strategies_of_P2.append(Payoff_strategies_of_P2)\n",
    "for i in Total_Payoff_strategies_of_P2_P1:\n",
    "    print()\n",
    "    print(\"The payoffs for P1's \", \"strategy no \", count+1)\n",
    "    for j in i :\n",
    "        print(j[0],\",\",j[1], end=\"   \") \n",
    "    count+=1    "
   ]
  },
  {
   "cell_type": "code",
   "execution_count": 158,
   "id": "72e1c8eb",
   "metadata": {},
   "outputs": [
    {
     "data": {
      "text/plain": [
       "[[[1.0, -1.0], [-1.0, 1.0], [0.0, -100.0]],\n",
       " [[-1.0, 1.0], [1.0, -1.0], [0.0, -100.0]]]"
      ]
     },
     "execution_count": 158,
     "metadata": {},
     "output_type": "execute_result"
    }
   ],
   "source": [
    "Total_Payoff_strategies_of_P2_P1"
   ]
  },
  {
   "cell_type": "code",
   "execution_count": 159,
   "id": "14d5d187",
   "metadata": {},
   "outputs": [
    {
     "data": {
      "text/plain": [
       "[[1.0, -1.0, 0.0], [-1.0, 1.0, 0.0]]"
      ]
     },
     "execution_count": 159,
     "metadata": {},
     "output_type": "execute_result"
    }
   ],
   "source": [
    "Total_Payoff_strategies_of_P1"
   ]
  },
  {
   "cell_type": "code",
   "execution_count": 160,
   "id": "fbbafdec",
   "metadata": {},
   "outputs": [],
   "source": [
    "Payoff_strategies_dic_P1={}\n",
    "for p1no,p1 in enumerate(Names_of_strategies_of_P1):\n",
    "    for p2no,p2 in enumerate(Names_of_strategies_of_P2):\n",
    "        Payoff_strategies_dic_P1[p1,p2] = Total_Payoff_strategies_of_P1[p1no][p2no]\n",
    "\n",
    "Payoff_strategies_dic_P2={}\n",
    "for p2no,p2 in enumerate(Names_of_strategies_of_P2):\n",
    "    for p1no,p1 in enumerate(Names_of_strategies_of_P1):\n",
    "        Payoff_strategies_dic_P2[p2,p1] = np.transpose(Total_Payoff_strategies_of_P2)[p2no][p1no]"
   ]
  },
  {
   "cell_type": "code",
   "execution_count": 161,
   "id": "5704e838",
   "metadata": {},
   "outputs": [
    {
     "data": {
      "text/plain": [
       "{('H', 'H'): 1.0,\n",
       " ('H', 'T'): -1.0,\n",
       " ('H', 'S'): 0.0,\n",
       " ('T', 'H'): -1.0,\n",
       " ('T', 'T'): 1.0,\n",
       " ('T', 'S'): 0.0}"
      ]
     },
     "execution_count": 161,
     "metadata": {},
     "output_type": "execute_result"
    }
   ],
   "source": [
    "Payoff_strategies_dic_P1"
   ]
  },
  {
   "cell_type": "code",
   "execution_count": 162,
   "id": "0c142049",
   "metadata": {},
   "outputs": [
    {
     "data": {
      "text/plain": [
       "{('H', 'H'): -1.0,\n",
       " ('H', 'T'): 1.0,\n",
       " ('T', 'H'): 1.0,\n",
       " ('T', 'T'): -1.0,\n",
       " ('S', 'H'): -100.0,\n",
       " ('S', 'T'): -100.0}"
      ]
     },
     "execution_count": 162,
     "metadata": {},
     "output_type": "execute_result"
    }
   ],
   "source": [
    "Payoff_strategies_dic_P2"
   ]
  },
  {
   "cell_type": "code",
   "execution_count": 163,
   "id": "ad5e5799",
   "metadata": {},
   "outputs": [],
   "source": [
    "Total_Payoff_strategies_of_P1_dic={}\n",
    "for no, name in enumerate(Names_of_strategies_of_P1):\n",
    "    Total_Payoff_strategies_of_P1_dic[name] = Total_Payoff_strategies_of_P1[no]"
   ]
  },
  {
   "cell_type": "code",
   "execution_count": 164,
   "id": "6058279a",
   "metadata": {},
   "outputs": [
    {
     "data": {
      "text/plain": [
       "{'H': [1.0, -1.0, 0.0], 'T': [-1.0, 1.0, 0.0]}"
      ]
     },
     "execution_count": 164,
     "metadata": {},
     "output_type": "execute_result"
    }
   ],
   "source": [
    "Total_Payoff_strategies_of_P1_dic"
   ]
  },
  {
   "cell_type": "code",
   "execution_count": 165,
   "id": "721b0611",
   "metadata": {},
   "outputs": [],
   "source": [
    "Total_Payoff_strategies_of_P1_dic_inv={}\n",
    "for no, name in enumerate(Names_of_strategies_of_P2):\n",
    "    Total_Payoff_strategies_of_P1_dic_inv[name] = np.transpose(Total_Payoff_strategies_of_P1)[no]"
   ]
  },
  {
   "cell_type": "code",
   "execution_count": 166,
   "id": "9cf520bb",
   "metadata": {},
   "outputs": [
    {
     "data": {
      "text/plain": [
       "{'H': array([ 1., -1.]), 'T': array([-1.,  1.]), 'S': array([0., 0.])}"
      ]
     },
     "execution_count": 166,
     "metadata": {},
     "output_type": "execute_result"
    }
   ],
   "source": [
    "Total_Payoff_strategies_of_P1_dic_inv"
   ]
  },
  {
   "cell_type": "code",
   "execution_count": 167,
   "id": "7cf2ca08",
   "metadata": {},
   "outputs": [
    {
     "data": {
      "text/plain": [
       "[[-1.0, 1.0, -100.0], [1.0, -1.0, -100.0]]"
      ]
     },
     "execution_count": 167,
     "metadata": {},
     "output_type": "execute_result"
    }
   ],
   "source": [
    "Total_Payoff_strategies_of_P2"
   ]
  },
  {
   "cell_type": "code",
   "execution_count": 168,
   "id": "80a45d45",
   "metadata": {},
   "outputs": [],
   "source": [
    "Total_Payoff_strategies_of_P2_dic={}\n",
    "for no, name in enumerate(Names_of_strategies_of_P2):\n",
    "    Total_Payoff_strategies_of_P2_dic[name] = np.transpose(Total_Payoff_strategies_of_P2)[no]"
   ]
  },
  {
   "cell_type": "code",
   "execution_count": 169,
   "id": "e6486ee8",
   "metadata": {},
   "outputs": [
    {
     "data": {
      "text/plain": [
       "{'H': array([-1.,  1.]), 'T': array([ 1., -1.]), 'S': array([-100., -100.])}"
      ]
     },
     "execution_count": 169,
     "metadata": {},
     "output_type": "execute_result"
    }
   ],
   "source": [
    "Total_Payoff_strategies_of_P2_dic"
   ]
  },
  {
   "cell_type": "code",
   "execution_count": 170,
   "id": "28839df1",
   "metadata": {},
   "outputs": [
    {
     "data": {
      "text/plain": [
       "array([[  -1.,    1.],\n",
       "       [   1.,   -1.],\n",
       "       [-100., -100.]])"
      ]
     },
     "execution_count": 170,
     "metadata": {},
     "output_type": "execute_result"
    }
   ],
   "source": [
    "np.transpose(Total_Payoff_strategies_of_P2)"
   ]
  },
  {
   "cell_type": "code",
   "execution_count": 172,
   "id": "040bbdb2",
   "metadata": {},
   "outputs": [
    {
     "name": "stdout",
     "output_type": "stream",
     "text": [
      "Player no ?2\n",
      "S H\n",
      "S T\n"
     ]
    }
   ],
   "source": [
    "#Q 1. Printing Dominated Strategies\n",
    "Player_No = int(input(\"Player no ?\"))\n",
    "if Player_No == 1:\n",
    "    for i in range(No_of_strategies_of_P1):\n",
    "           for j in range(No_of_strategies_of_P1):\n",
    "                if (np.array(Total_Payoff_strategies_of_P1)[i]<np.array(Total_Payoff_strategies_of_P1)[j]).all():\n",
    "                        print(Names_of_strategies_of_P1[i],Names_of_strategies_of_P1[j])\n",
    "if Player_No == 2: \n",
    "    for i in range(No_of_strategies_of_P2):\n",
    "           for j in range(No_of_strategies_of_P2):\n",
    "                if (np.array(np.transpose(Total_Payoff_strategies_of_P2))[i]<np.array(np.transpose(Total_Payoff_strategies_of_P2))[j]).all(): \n",
    "                        print(Names_of_strategies_of_P2[i],Names_of_strategies_of_P2[j])"
   ]
  },
  {
   "cell_type": "code",
   "execution_count": 173,
   "id": "a6ecf1dd",
   "metadata": {},
   "outputs": [
    {
     "name": "stdout",
     "output_type": "stream",
     "text": [
      "Player no ?2\n",
      "Player's strategy ?H\n",
      "H\n"
     ]
    }
   ],
   "source": [
    "#Q 2. Best Responses\n",
    "Player_No = int(input(\"Player no ?\"))\n",
    "Strategy = input(\"Player's strategy ?\")\n",
    "\n",
    "if Player_No == 1:\n",
    "    Strategy_No = Names_of_strategies_of_P1.index(Strategy)\n",
    "    Best_Response_No = (Total_Payoff_strategies_of_P2)[Strategy_No].index(max((Total_Payoff_strategies_of_P2)[Strategy_No]))\n",
    "    Best_Response = Names_of_strategies_of_P2[Best_Response_No]\n",
    "    print(Best_Response)\n",
    "if Player_No == 2:\n",
    "    Strategy_No = Names_of_strategies_of_P2.index(Strategy)\n",
    "    Best_Response_No = (list(np.transpose(Total_Payoff_strategies_of_P1)[Strategy_No])).index(max(list(np.transpose(Total_Payoff_strategies_of_P1))[Strategy_No]))\n",
    "    Best_Response = Names_of_strategies_of_P1[Best_Response_No]\n",
    "    print(Best_Response)"
   ]
  },
  {
   "cell_type": "code",
   "execution_count": 174,
   "id": "324dec2d",
   "metadata": {},
   "outputs": [
    {
     "name": "stdout",
     "output_type": "stream",
     "text": [
      "H   H\n",
      "H   T\n",
      "T   H\n",
      "T   T\n"
     ]
    }
   ],
   "source": [
    "#Q 3. Printing IESDS\n",
    "\n",
    "from copy import deepcopy\n",
    "\n",
    "New_Names_of_strategies_of_P1 = deepcopy(Names_of_strategies_of_P1)\n",
    "New_Names_of_strategies_of_P2 = deepcopy(Names_of_strategies_of_P2)\n",
    "count_P1=0\n",
    "count_P2=0\n",
    "for i in range(No_of_strategies_of_P1):\n",
    "    for j in range(No_of_strategies_of_P1):\n",
    "        if (np.array(Total_Payoff_strategies_of_P1)[i]<np.array(Total_Payoff_strategies_of_P1)[j]).all():\n",
    "                    count_P1+=1\n",
    "    if count_P1 == No_of_strategies_of_P1-1: \n",
    "        New_Names_of_strategies_of_P1.pop(i)\n",
    "    count_P1 =0\n",
    "\n",
    "for i in range(No_of_strategies_of_P2):\n",
    "    for j in range(No_of_strategies_of_P2):\n",
    "        if (np.array(np.transpose(Total_Payoff_strategies_of_P2))[i]<np.array(np.transpose(Total_Payoff_strategies_of_P2))[j]).all():\n",
    "                    count_P2+=1\n",
    "    if count_P2 == No_of_strategies_of_P2-1:\n",
    "        New_Names_of_strategies_of_P2.pop(i)\n",
    "    count_P2 =0\n",
    "\n",
    "for i in New_Names_of_strategies_of_P1:\n",
    "    for j in New_Names_of_strategies_of_P2:\n",
    "        print(i, \" \", j)\n"
   ]
  },
  {
   "cell_type": "code",
   "execution_count": 175,
   "id": "1ba67955",
   "metadata": {},
   "outputs": [
    {
     "name": "stdout",
     "output_type": "stream",
     "text": [
      "H   H\n",
      "H   T\n",
      "T   H\n",
      "T   T\n"
     ]
    }
   ],
   "source": [
    "#Q 4. Rationalizable Strategies\n",
    "\n",
    "Best_Response_P2 = []\n",
    "for i in Names_of_strategies_of_P1:\n",
    "    Strategy_No = Names_of_strategies_of_P1.index(i)\n",
    "    Best_Response_No_P2 = (Total_Payoff_strategies_of_P2)[Strategy_No].index(max((Total_Payoff_strategies_of_P2)[Strategy_No]))\n",
    "    Best_Response_P2.append(Names_of_strategies_of_P2[Best_Response_No_P2])\n",
    " \n",
    "\n",
    "Best_Response_P1 = []\n",
    "for i in Names_of_strategies_of_P2:\n",
    "    Strategy_No = Names_of_strategies_of_P2.index(i)\n",
    "    Best_Response_No_P1 = (list(np.transpose(Total_Payoff_strategies_of_P1)[Strategy_No])).index(max(list(np.transpose(Total_Payoff_strategies_of_P1))[Strategy_No]))    \n",
    "    Best_Response_P1.append(Names_of_strategies_of_P1[Best_Response_No_P1])\n",
    "\n",
    "\n",
    "Best_Response_P1 = list(set(Best_Response_P1))\n",
    "Best_Response_P2 = list(set(Best_Response_P2))\n",
    "Best_Response_P1 = sorted(Best_Response_P1,key=Names_of_strategies_of_P1.index)\n",
    "Best_Response_P2 = sorted(Best_Response_P2,key=Names_of_strategies_of_P2.index) \n",
    "for i in Best_Response_P1:\n",
    "    for j in Best_Response_P2:\n",
    "        print(i, \" \", j)"
   ]
  },
  {
   "cell_type": "code",
   "execution_count": 176,
   "id": "ab0b6c62",
   "metadata": {},
   "outputs": [],
   "source": [
    "#Q 5. Pure Strategy Nash Equilibrium\n",
    "Best_Response_P2 = []\n",
    "for i in Names_of_strategies_of_P1:\n",
    "    Strategy_No = Names_of_strategies_of_P1.index(i)\n",
    "    Best_Response_No_P2 = (Total_Payoff_strategies_of_P2)[Strategy_No].index(max((Total_Payoff_strategies_of_P2)[Strategy_No]))\n",
    "    Best_Response_P2.append(Names_of_strategies_of_P2[Best_Response_No_P2])\n",
    "\n",
    "Best_Response_P1 = []\n",
    "for i in Names_of_strategies_of_P2:\n",
    "    Strategy_No = Names_of_strategies_of_P2.index(i)\n",
    "    Best_Response_No_P1 = (list(np.transpose(Total_Payoff_strategies_of_P1)[Strategy_No])).index(max(list(np.transpose(Total_Payoff_strategies_of_P1))[Strategy_No]))\n",
    "    Best_Response_P1.append(Names_of_strategies_of_P1[Best_Response_No_P1])\n",
    "\n",
    "#print(Best_Response_P1)\n",
    "#print(Names_of_strategies_of_P2)\n",
    "#print(Best_Response_P2)\n",
    "#print(Names_of_strategies_of_P1)\n",
    "for i in zip(Names_of_strategies_of_P1,Best_Response_P2):\n",
    "    for j in zip(Best_Response_P1, Names_of_strategies_of_P2):\n",
    "        if i == j :\n",
    "            print(i[0], \" \", j[1])"
   ]
  },
  {
   "cell_type": "code",
   "execution_count": 181,
   "id": "b763fc8d",
   "metadata": {},
   "outputs": [
    {
     "name": "stdout",
     "output_type": "stream",
     "text": [
      "\n",
      "0.5  0.5  \n",
      "0.5  0.5  0  "
     ]
    }
   ],
   "source": [
    "#Q 6. Mixed Nash Equilibrium\n",
    "\n",
    "Best_Response_P2 = []\n",
    "for i in Names_of_strategies_of_P1:\n",
    "    Strategy_No = Names_of_strategies_of_P1.index(i)\n",
    "    Best_Response_No_P2 = (Total_Payoff_strategies_of_P2)[Strategy_No].index(max((Total_Payoff_strategies_of_P2)[Strategy_No]))\n",
    "    Best_Response_P2.append(Names_of_strategies_of_P2[Best_Response_No_P2])\n",
    "\n",
    "Best_Response_P1 = []\n",
    "for i in Names_of_strategies_of_P2:\n",
    "    Strategy_No = Names_of_strategies_of_P2.index(i)\n",
    "    Best_Response_No_P1 = (list(np.transpose(Total_Payoff_strategies_of_P1)[Strategy_No])).index(max(list(np.transpose(Total_Payoff_strategies_of_P1))[Strategy_No]))\n",
    "    Best_Response_P1.append(Names_of_strategies_of_P1[Best_Response_No_P1])\n",
    "\n",
    "Best_Response_P1 = list(set(Best_Response_P1))\n",
    "Best_Response_P2 = list(set(Best_Response_P2))\n",
    "Best_Response_P1 = sorted(Best_Response_P1,key=Names_of_strategies_of_P1.index)\n",
    "Best_Response_P2 = sorted(Best_Response_P2,key=Names_of_strategies_of_P2.index) \n",
    "#print(\"Best Response of P1\", Best_Response_P1)\n",
    "#print(\"Best Response of P2\", Best_Response_P2)\n",
    "\n",
    "\n",
    "if len(Best_Response_P2)!=1 and len(Best_Response_P1)!=1:\n",
    "\n",
    "# Mixed Strategy for Player 1\n",
    "\n",
    "    Best_Response_Payoff_strategies_of_P2=[]\n",
    "    for i in Best_Response_P2:\n",
    "        Best_Response_Payoff_strategies_of_P2_sub=[]\n",
    "        for j in Best_Response_P1:\n",
    "            Best_Response_Payoff_strategies_of_P2_sub.append(Payoff_strategies_dic_P2[i,j])\n",
    "        Best_Response_Payoff_strategies_of_P2.append(Best_Response_Payoff_strategies_of_P2_sub) \n",
    "    #print(\"Best_Response_Payoff_strategies_of_P2\",Best_Response_Payoff_strategies_of_P2)\n",
    "    Best_Response_Matrix = []\n",
    "    Prob_equal_one_vector = [1]*len(Best_Response_P1)\n",
    "    RHS_vector = np.zeros(len(Best_Response_P2))\n",
    "    RHS_vector[-1] = 1\n",
    "    RHS_vector = np.array(RHS_vector)\n",
    "    for i in range(len(Best_Response_P2)-1):\n",
    "        Best_Response_Matrix.append([a - b for a, b in zip(Best_Response_Payoff_strategies_of_P2[i], Best_Response_Payoff_strategies_of_P2[i+1])])\n",
    "    Best_Response_Matrix.append(Prob_equal_one_vector)\n",
    "    #print(Best_Response_Matrix)\n",
    "    if np.linalg.det(Best_Response_Matrix): \n",
    "        Best_Response_Matrix = np.array(Best_Response_Matrix)\n",
    "        prob_strategies_P1 = np.linalg.inv(Best_Response_Matrix).dot(RHS_vector)\n",
    "        #print(prob_strategies_P2)\n",
    "        prob_strategies_P1_dic=dict.fromkeys(Names_of_strategies_of_P1,0)\n",
    "        for i in range(len(Best_Response_P1)):\n",
    "            prob_strategies_P1_dic[Best_Response_P1[i]] = prob_strategies_P1[i]\n",
    "        print()\n",
    "        for i in list(prob_strategies_P1_dic.values()):\n",
    "            print(i,\" \", end=\"\")\n",
    "    else:\n",
    "        print(\"P1 can play best responses with any values of probability \")  \n",
    "        \n",
    "# Mixed Strategy for Player 2\n",
    "    Best_Response_Payoff_strategies_of_P1=[]\n",
    "\n",
    "    for i in Best_Response_P1:\n",
    "        Best_Response_Payoff_strategies_of_P1_sub=[]\n",
    "        for j in Best_Response_P2:\n",
    "            Best_Response_Payoff_strategies_of_P1_sub.append(Payoff_strategies_dic_P1[i,j])\n",
    "        Best_Response_Payoff_strategies_of_P1.append(Best_Response_Payoff_strategies_of_P1_sub) \n",
    "    #print(\"Best_Response_Payoff_strategies_of_P1\",Best_Response_Payoff_strategies_of_P1)\n",
    "    Best_Response_Matrix = []\n",
    "    Prob_equal_one_vector = [1]*len(Best_Response_P2)\n",
    "    RHS_vector = np.zeros(len(Best_Response_P1))\n",
    "    RHS_vector[-1] = 1\n",
    "    RHS_vector = np.array(RHS_vector)\n",
    "    for i in range(len(Best_Response_P1)-1):\n",
    "        Best_Response_Matrix.append([a - b for a, b in zip(Best_Response_Payoff_strategies_of_P1[i], Best_Response_Payoff_strategies_of_P1[i+1])])\n",
    "    Best_Response_Matrix.append(Prob_equal_one_vector)\n",
    "    #print(\"Best_Response_Matrix\",Best_Response_Matrix)\n",
    "    if np.linalg.det(Best_Response_Matrix): \n",
    "        Best_Response_Matrix = np.array(Best_Response_Matrix)\n",
    "        prob_strategies_P2 = np.linalg.inv(Best_Response_Matrix).dot(RHS_vector)\n",
    "        #print(prob_strategies_P1)\n",
    "        prob_strategies_P2_dic=dict.fromkeys(Names_of_strategies_of_P2,0)\n",
    "        print()\n",
    "        for i in range(len(Best_Response_P2)):\n",
    "            prob_strategies_P2_dic[Best_Response_P2[i]] = prob_strategies_P2[i]\n",
    "        for i in list(prob_strategies_P2_dic.values()):\n",
    "            print(i,\" \", end=\"\") \n",
    "    else:\n",
    "         print(\"P2 can play best responses with any values of probability \")\n",
    "\n",
    "    \n",
    "else:\n",
    "    print(\" Either Player 1 or Player 2 has 1 strategy and thus no mixed strategy NE exists\")"
   ]
  }
 ],
 "metadata": {
  "kernelspec": {
   "display_name": "Python 3",
   "language": "python",
   "name": "python3"
  },
  "language_info": {
   "codemirror_mode": {
    "name": "ipython",
    "version": 3
   },
   "file_extension": ".py",
   "mimetype": "text/x-python",
   "name": "python",
   "nbconvert_exporter": "python",
   "pygments_lexer": "ipython3",
   "version": "3.8.8"
  }
 },
 "nbformat": 4,
 "nbformat_minor": 5
}
